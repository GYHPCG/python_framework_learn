{
 "cells": [
  {
   "cell_type": "markdown",
   "source": [
    "## 张量\n",
    "Tensors are similar to NumPy’s ndarrays, except that tensors can run on GPUs or other hardware accelerators. In fact,GPus are designed to run tensors."
   ],
   "metadata": {
    "collapsed": false,
    "pycharm": {
     "name": "#%% md\n"
    }
   }
  },
  {
   "cell_type": "code",
   "execution_count": 5,
   "outputs": [
    {
     "name": "stdout",
     "output_type": "stream",
     "text": [
      "tensor([[1.0194e-38, 8.4490e-39, 1.0469e-38],\n",
      "        [9.3674e-39, 9.9184e-39, 8.7245e-39],\n",
      "        [9.2755e-39, 8.9082e-39, 9.9184e-39],\n",
      "        [8.4490e-39, 9.6429e-39, 1.0653e-38],\n",
      "        [1.0469e-38, 4.2246e-39, 1.0378e-38]])\n"
     ]
    }
   ],
   "source": [
    "from __future__ import print_function\n",
    "import torch\n",
    "\n",
    "# create a 5x3 tensor without init\n",
    "x = torch.empty(5,3)\n",
    "print(x)"
   ],
   "metadata": {
    "collapsed": false,
    "pycharm": {
     "name": "#%%\n"
    }
   }
  },
  {
   "cell_type": "code",
   "execution_count": 6,
   "outputs": [
    {
     "data": {
      "text/plain": "tensor([[0.9581, 0.5458, 0.2260],\n        [0.0710, 0.3298, 0.3651],\n        [0.7684, 0.0709, 0.7749],\n        [0.4844, 0.5160, 0.6962],\n        [0.2862, 0.0773, 0.2889]])"
     },
     "execution_count": 6,
     "metadata": {},
     "output_type": "execute_result"
    }
   ],
   "source": [
    "# create a tensor with random init\n",
    "x = torch.rand(5,3)\n",
    "x"
   ],
   "metadata": {
    "collapsed": false,
    "pycharm": {
     "name": "#%%\n"
    }
   }
  },
  {
   "cell_type": "code",
   "execution_count": 7,
   "outputs": [
    {
     "data": {
      "text/plain": "tensor([[0, 0, 0],\n        [0, 0, 0],\n        [0, 0, 0],\n        [0, 0, 0],\n        [0, 0, 0]])"
     },
     "execution_count": 7,
     "metadata": {},
     "output_type": "execute_result"
    }
   ],
   "source": [
    "# create a tensor with init with given value 0, type is long\n",
    "x = torch.zeros(5,3, dtype=torch.long)\n",
    "x"
   ],
   "metadata": {
    "collapsed": false,
    "pycharm": {
     "name": "#%%\n"
    }
   }
  },
  {
   "cell_type": "code",
   "execution_count": 8,
   "outputs": [
    {
     "data": {
      "text/plain": "tensor([5.5000, 3.0000])"
     },
     "execution_count": 8,
     "metadata": {},
     "output_type": "execute_result"
    }
   ],
   "source": [
    "# create a tensor init by given data\n",
    "x = torch.tensor([5.5, 3])\n",
    "x"
   ],
   "metadata": {
    "collapsed": false,
    "pycharm": {
     "name": "#%%\n"
    }
   }
  },
  {
   "cell_type": "code",
   "execution_count": 9,
   "outputs": [
    {
     "name": "stdout",
     "output_type": "stream",
     "text": [
      "tensor([[1., 1., 1.],\n",
      "        [1., 1., 1.],\n",
      "        [1., 1., 1.],\n",
      "        [1., 1., 1.],\n",
      "        [1., 1., 1.]], dtype=torch.float64)\n",
      "tensor([[ 0.0615, -1.1388, -1.1876],\n",
      "        [ 0.5369, -0.9052,  0.1725],\n",
      "        [ 1.1397,  1.2928, -0.1895],\n",
      "        [-0.3736, -1.6036,  1.0168],\n",
      "        [ 0.0374, -0.5160,  0.6283]])\n"
     ]
    }
   ],
   "source": [
    "# create a tensor like x\n",
    "x = x.new_ones(5,3, dtype=torch.double)\n",
    "print(x)\n",
    "\n",
    "x1 = torch.randn_like(x, dtype=torch.float)\n",
    "print(x1)\n"
   ],
   "metadata": {
    "collapsed": false,
    "pycharm": {
     "name": "#%%\n"
    }
   }
  },
  {
   "cell_type": "code",
   "execution_count": 21,
   "outputs": [
    {
     "name": "stdout",
     "output_type": "stream",
     "text": [
      "torch.Size([5, 3])\n"
     ]
    },
    {
     "data": {
      "text/plain": "torch.Size([5, 3])"
     },
     "execution_count": 21,
     "metadata": {},
     "output_type": "execute_result"
    }
   ],
   "source": [
    "# get size, return list\n",
    "print(x.size())\n",
    "x.shape[0]\n",
    "x.size()[1]\n",
    "\n",
    "# Torch.Size() return a tuple\n",
    "shape_tuple = torch.Size([5,3])\n",
    "shape_tuple"
   ],
   "metadata": {
    "collapsed": false,
    "pycharm": {
     "name": "#%%\n"
    }
   }
  },
  {
   "cell_type": "markdown",
   "source": [
    "# Operations"
   ],
   "metadata": {
    "collapsed": false,
    "pycharm": {
     "name": "#%% md\n"
    }
   }
  },
  {
   "cell_type": "code",
   "execution_count": 25,
   "outputs": [
    {
     "data": {
      "text/plain": "tensor([[1.3348, 1.7943, 1.0477],\n        [1.5526, 1.3504, 1.6536],\n        [1.0176, 1.2053, 1.8569],\n        [1.8766, 1.3432, 1.7663],\n        [1.7281, 1.9307, 1.9126]])"
     },
     "execution_count": 25,
     "metadata": {},
     "output_type": "execute_result"
    }
   ],
   "source": [
    "# add\n",
    "y = torch.rand(5,3)\n",
    "x + y\n",
    "torch.add(x, y)\n",
    "\n",
    "# give result as parameter\n",
    "result = torch.empty(5,3)\n",
    "torch.add(x, y, out=result)\n",
    "result"
   ],
   "metadata": {
    "collapsed": false,
    "pycharm": {
     "name": "#%%\n"
    }
   }
  },
  {
   "cell_type": "code",
   "execution_count": 27,
   "outputs": [
    {
     "name": "stdout",
     "output_type": "stream",
     "text": [
      "tensor([[0., 0., 0.],\n",
      "        [0., 0., 0.],\n",
      "        [0., 0., 0.],\n",
      "        [0., 0., 0.],\n",
      "        [0., 0., 0.]])\n"
     ]
    },
    {
     "data": {
      "text/plain": "tensor([[1., 1., 1.],\n        [1., 1., 1.],\n        [1., 1., 1.],\n        [1., 1., 1.],\n        [1., 1., 1.]])"
     },
     "execution_count": 27,
     "metadata": {},
     "output_type": "execute_result"
    }
   ],
   "source": [
    "# add in place\n",
    "zero = torch.zeros(x.size())\n",
    "print(zero)\n",
    "zero.add_(x)\n",
    "zero\n"
   ],
   "metadata": {
    "collapsed": false,
    "pycharm": {
     "name": "#%%\n"
    }
   }
  },
  {
   "cell_type": "markdown",
   "source": [
    "# Note\n",
    "任何以_结尾的函数，如add_，都是inplace操作，会改变原张量。"
   ],
   "metadata": {
    "collapsed": false,
    "pycharm": {
     "name": "#%% md\n"
    }
   }
  },
  {
   "cell_type": "code",
   "execution_count": 28,
   "outputs": [
    {
     "name": "stdout",
     "output_type": "stream",
     "text": [
      "tensor([1., 1., 1., 1., 1.])\n"
     ]
    }
   ],
   "source": [
    "print(zero[:,1])"
   ],
   "metadata": {
    "collapsed": false,
    "pycharm": {
     "name": "#%%\n"
    }
   }
  },
  {
   "cell_type": "code",
   "execution_count": 30,
   "outputs": [
    {
     "name": "stdout",
     "output_type": "stream",
     "text": [
      "torch.Size([4, 4]) torch.Size([16]) torch.Size([2, 8])\n",
      "torch.Size([2, 8])\n"
     ]
    }
   ],
   "source": [
    "x = torch.randn(4,4)\n",
    "y = x.view(16)\n",
    "z = x.view(-1,8)\n",
    "print(x.size(), y.size(), z.size())\n",
    "t = x.view(2,8)\n",
    "print(t.size())"
   ],
   "metadata": {
    "collapsed": false,
    "pycharm": {
     "name": "#%%\n"
    }
   }
  },
  {
   "cell_type": "markdown",
   "source": [
    "# If one of the sizes of the tensor is set to -1, the size of that dimension is inferred from the size of the other dimensions."
   ],
   "metadata": {
    "collapsed": false,
    "pycharm": {
     "name": "#%% md\n"
    }
   }
  },
  {
   "cell_type": "code",
   "execution_count": 31,
   "outputs": [
    {
     "name": "stdout",
     "output_type": "stream",
     "text": [
      "tensor([[[-0.6386, -2.2023,  0.8839],\n",
      "         [ 1.2778, -2.8884, -0.1644]]])\n",
      "tensor([[-0.6386, -2.2023,  0.8839,  1.2778, -2.8884, -0.1644]])\n"
     ]
    }
   ],
   "source": [
    "x = torch.randn(1,2,3)\n",
    "print(x)\n",
    "y = x.view(-1,6)\n",
    "print(y)\n"
   ],
   "metadata": {
    "collapsed": false,
    "pycharm": {
     "name": "#%%\n"
    }
   }
  },
  {
   "cell_type": "code",
   "execution_count": 32,
   "outputs": [
    {
     "name": "stdout",
     "output_type": "stream",
     "text": [
      "tensor([[-1.1990,  1.1608, -2.4118,  1.4835],\n",
      "        [-0.8905, -1.1355,  0.4029, -0.6482],\n",
      "        [ 0.6338,  0.6073, -1.4107,  0.8376],\n",
      "        [-1.5244,  0.0929,  0.0928, -1.1989]])\n"
     ]
    }
   ],
   "source": [
    "# reshape\n",
    "x = torch.randn(4,4)\n",
    "y = x.view_as(x)\n",
    "print(y)"
   ],
   "metadata": {
    "collapsed": false,
    "pycharm": {
     "name": "#%%\n"
    }
   }
  },
  {
   "cell_type": "code",
   "execution_count": 37,
   "outputs": [
    {
     "name": "stdout",
     "output_type": "stream",
     "text": [
      "tensor([[-0.9475, -0.2225,  1.4373,  1.4915],\n",
      "        [ 0.5894,  0.8399, -0.9881,  2.0757],\n",
      "        [ 0.8874, -0.2762,  0.3295,  0.5656],\n",
      "        [-1.4507,  0.2237,  0.2569, -0.9521]])\n",
      "tensor([[-0.9475,  0.5894,  0.8874, -1.4507],\n",
      "        [-0.2225,  0.8399, -0.2762,  0.2237],\n",
      "        [ 1.4373, -0.9881,  0.3295,  0.2569],\n",
      "        [ 1.4915,  2.0757,  0.5656, -0.9521]])\n",
      "tensor([[ 0.1744, -0.0917],\n",
      "        [ 0.3840, -0.0552],\n",
      "        [-0.1390,  0.4604],\n",
      "        [ 0.1322,  0.2345],\n",
      "        [-0.3813,  0.3789]])\n",
      "tensor([[ 0.1744, -0.0917],\n",
      "        [ 0.3840, -0.0552],\n",
      "        [-0.1390,  0.4604],\n",
      "        [ 0.1322,  0.2345],\n",
      "        [-0.3813,  0.3789]])\n"
     ]
    },
    {
     "ename": "RuntimeError",
     "evalue": "The size of tensor a (3) must match the size of tensor b (2) at non-singleton dimension 1",
     "output_type": "error",
     "traceback": [
      "\u001B[1;31m---------------------------------------------------------------------------\u001B[0m",
      "\u001B[1;31mRuntimeError\u001B[0m                              Traceback (most recent call last)",
      "Cell \u001B[1;32mIn[37], line 16\u001B[0m\n\u001B[0;32m     12\u001B[0m \u001B[38;5;28mprint\u001B[39m(z)\n\u001B[0;32m     14\u001B[0m \u001B[38;5;28mprint\u001B[39m(x\u001B[38;5;241m.\u001B[39mmm(y))\n\u001B[1;32m---> 16\u001B[0m \u001B[38;5;28mprint\u001B[39m(\u001B[43mx\u001B[49m\u001B[43m \u001B[49m\u001B[38;5;241;43m*\u001B[39;49m\u001B[43m \u001B[49m\u001B[43my\u001B[49m)\n",
      "\u001B[1;31mRuntimeError\u001B[0m: The size of tensor a (3) must match the size of tensor b (2) at non-singleton dimension 1"
     ]
    }
   ],
   "source": [
    "# 转置\n",
    "x = torch.randn(4,4)\n",
    "print(x)\n",
    "\n",
    "x.t_()\n",
    "print(x)\n",
    "\n",
    "# 矩阵乘法\n",
    "x = torch.randn(5,3)\n",
    "y = torch.randn(3,2)\n",
    "z = torch.mm(x,y)\n",
    "print(z)\n",
    "\n",
    "print(x.mm(y))\n",
    "\n",
    "print(x * y) # element-wise"
   ],
   "metadata": {
    "collapsed": false,
    "pycharm": {
     "name": "#%%\n"
    }
   }
  },
  {
   "cell_type": "code",
   "execution_count": 39,
   "outputs": [],
   "source": [
    "# 所有的 Tensor 类型默认都是基于CPU， CharTensor 类型不支持到 NumPy 的转换. CUDA 张量\n",
    "if torch.cuda.is_available():\n",
    "    device = torch.device(\"cuda\")  # a CUDA 设备对象\n",
    "    y = torch.ones_like(x, device=device) # 直接从GPU创建张量\n",
    "    x = x.to(device) # 或者直接使用``.to(\"cuda\")``将张量移动到cuda中\n",
    "    z = x + y\n",
    "    print(z)\n",
    "    print(z.to(\"cpu\", torch.double))\n"
   ],
   "metadata": {
    "collapsed": false,
    "pycharm": {
     "name": "#%%\n"
    }
   }
  }
 ],
 "metadata": {
  "kernelspec": {
   "display_name": "Python 3",
   "language": "python",
   "name": "python3"
  },
  "language_info": {
   "codemirror_mode": {
    "name": "ipython",
    "version": 2
   },
   "file_extension": ".py",
   "mimetype": "text/x-python",
   "name": "python",
   "nbconvert_exporter": "python",
   "pygments_lexer": "ipython2",
   "version": "2.7.6"
  }
 },
 "nbformat": 4,
 "nbformat_minor": 0
}